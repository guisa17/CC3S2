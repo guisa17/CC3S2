{
 "cells": [
  {
   "cell_type": "markdown",
   "id": "a14b5a4f-b2d6-4f57-a55e-3196297e966b",
   "metadata": {},
   "source": [
    "# JUnit5\n",
    "1. Lenguaje: Diseñado especialmente para el lenguaje de programación de Java.\n",
    "2. Sintaxis: Usa anotaciones @Test para señalar lo que se va a marcar como método de prueba.\n",
    "3. Está orientado a objetos y a la utilización de clases.\n",
    "4. Está enfocado en pruebas unitarias y a la integración con otras herramientas de Java.\n",
    "5. Tiene una estructura sólida para pruebas unitarias con una sintaxis más rígida."
   ]
  },
  {
   "cell_type": "markdown",
   "id": "3196ad61-c28f-4801-93d8-6af037c475e4",
   "metadata": {},
   "source": [
    "# RSPec\n",
    "1. Lenguaje: Diseñado especialmente para el lenguaje de programación Ruby.\n",
    "2. Sintaxis: Usa lenguaje más legible para humanos y se basa en bloques.\n",
    "3. Está orientado a declaraciones y a comportamientos.\n",
    "4. Está enfocado a las especificaciones y a las pruebas BDD, más orientado a la descripción.\n",
    "5. Tiene una estructura flexible y legible."
   ]
  }
 ],
 "metadata": {
  "kernelspec": {
   "display_name": "Python 3 (ipykernel)",
   "language": "python",
   "name": "python3"
  },
  "language_info": {
   "codemirror_mode": {
    "name": "ipython",
    "version": 3
   },
   "file_extension": ".py",
   "mimetype": "text/x-python",
   "name": "python",
   "nbconvert_exporter": "python",
   "pygments_lexer": "ipython3",
   "version": "3.10.4"
  }
 },
 "nbformat": 4,
 "nbformat_minor": 5
}
