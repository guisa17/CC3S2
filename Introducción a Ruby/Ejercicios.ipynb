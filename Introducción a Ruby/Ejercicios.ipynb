{
 "cells": [
  {
   "cell_type": "markdown",
   "id": "c4386a75-3293-4c17-9f99-9b11b5dce854",
   "metadata": {},
   "source": [
    "# Ejercicio 1"
   ]
  },
  {
   "cell_type": "code",
   "execution_count": 2,
   "id": "83023c73-e89b-4aa3-b39e-1c3e8555d527",
   "metadata": {},
   "outputs": [
    {
     "name": "stdout",
     "output_type": "stream",
     "text": [
      "azerec\n",
      "onatlp\n"
     ]
    },
    {
     "data": {
      "text/plain": [
       "\"cereza onatlp\""
      ]
     },
     "execution_count": 2,
     "metadata": {},
     "output_type": "execute_result"
    }
   ],
   "source": [
    "fruta1 = \"cereza\"\n",
    "fruta2 = \"pltano\"\n",
    "puts fruta1.reverse\n",
    "puts fruta2.reverse!\n",
    "fruta1 + \" \" + fruta2"
   ]
  },
  {
   "cell_type": "raw",
   "id": "646cb748-e979-44d0-adbd-6e0030f07ad2",
   "metadata": {},
   "source": [
    "En la línea 3 y 4, tenemos el método *reverse* y *reverse!*. El primero (reverse) ejecuta dicho método para la cadena fruta1; en cambio, el segundo (reverse!), ejecuta dicho método para la cadena fruta2, y la actualiza a dicho valor."
   ]
  },
  {
   "cell_type": "code",
   "execution_count": 24,
   "id": "c9b7a219-d5f6-4287-bdf9-82150c3d3148",
   "metadata": {},
   "outputs": [
    {
     "data": {
      "text/plain": [
       "\"mundo\""
      ]
     },
     "execution_count": 24,
     "metadata": {},
     "output_type": "execute_result"
    }
   ],
   "source": [
    "class Cadena\n",
    "    @@hola = \"hola alli!\"\n",
    "    def hola; \"mundo\"; end\n",
    "end\n",
    "\n",
    "smoothie = Cadena.new\n",
    "smoothie.hola"
   ]
  },
  {
   "cell_type": "raw",
   "id": "bc3b2b3e-64c7-4bb1-ac64-1c42ac0e74b0",
   "metadata": {},
   "source": [
    "Tenemos la clase Cadena que tiene la variable de clase hola y el método hola. No obstante, si instanciamos Cadena smoothie y realizamos smoothie.hola, el resultado de este será el de llamar al método."
   ]
  },
  {
   "cell_type": "code",
   "execution_count": 31,
   "id": "a4b6565d-e4b4-45e9-a719-caa00eab03f7",
   "metadata": {},
   "outputs": [
    {
     "data": {
      "text/plain": [
       "\"Yup, that fruit tastes sour!\""
      ]
     },
     "execution_count": 31,
     "metadata": {},
     "output_type": "execute_result"
    }
   ],
   "source": [
    "class Fruit\n",
    "    def method_missing(meth)\n",
    "        if meth.to_s =~ /^tastes_(.+)\\?$/\n",
    "            \"Yup, that fruit tastes #{$1}!\"\n",
    "        else\n",
    "            super\n",
    "        end\n",
    "    end\n",
    "end\n",
    "\n",
    "orange = Fruit.new\n",
    "# orange.bitter?\n",
    "orange.tastes_sour?\n",
    "# orange.tastes_sweet?"
   ]
  },
  {
   "cell_type": "markdown",
   "id": "ccd21a75-bd5a-4782-9696-c316ebb208f8",
   "metadata": {},
   "source": [
    "El método method_missing toma un string y lo compara con una expresión regular del tipo \"tastes_\" y un espacio adicional. Si no se encuentra dicha expresión regular, llamará a super; de lo contrario, imprimirá un mensaje."
   ]
  },
  {
   "cell_type": "markdown",
   "id": "9515cc8f-0190-467c-bbd5-692617a9e76c",
   "metadata": {},
   "source": [
    "# Ejercicio 2"
   ]
  },
  {
   "cell_type": "code",
   "execution_count": 4,
   "id": "5049eb8b-347f-4fdc-ad5e-de973e435b3d",
   "metadata": {},
   "outputs": [
    {
     "data": {
      "text/plain": [
       "15"
      ]
     },
     "execution_count": 4,
     "metadata": {},
     "output_type": "execute_result"
    }
   ],
   "source": [
    "# def foo(arr)\n",
    "#     res = 0\n",
    "#     arr.each do |n|\n",
    "#         res += n\n",
    "#     end\n",
    "#     res\n",
    "# end\n",
    "\n",
    "def foo(arr) ; arr.sum ; end\n",
    "numeros = [1, 2, 3, 4, 5]\n",
    "sum = foo(numeros)"
   ]
  },
  {
   "cell_type": "markdown",
   "id": "d6ec5486-8f98-4d90-b87e-b823239577be",
   "metadata": {},
   "source": [
    "Se nos da una expresión que itera sobre cada elemento de un arreglo de número, y suma los resultados. Esta podemos simplificarla por medio del método sum y tendríamos un equivalente en una sola línea."
   ]
  },
  {
   "cell_type": "code",
   "execution_count": 8,
   "id": "1692a302-b048-4782-8a09-1b3cfbeabcd1",
   "metadata": {},
   "outputs": [
    {
     "data": {
      "text/plain": [
       "{\"mil\"=>1000, \"key\"=>256}"
      ]
     },
     "execution_count": 8,
     "metadata": {},
     "output_type": "execute_result"
    }
   ],
   "source": [
    "# def bar(hsh)\n",
    "#     res = {}\n",
    "#     hsh.each do |k, v|\n",
    "#         if v > 100\n",
    "#             res[k] = v\n",
    "#         end\n",
    "#     end\n",
    "#     res\n",
    "# end\n",
    "\n",
    "def bar(hsh) ; hsh.select { |k, v| v > 100 } ; end\n",
    "hash = {\"uno\" => 1, \"cien\" => 100, \"mil\" => 1000, \"key\" => 256}\n",
    "result = bar(hash)"
   ]
  },
  {
   "cell_type": "markdown",
   "id": "d4084417-ae2f-480c-b1af-e2019f1c1d60",
   "metadata": {},
   "source": [
    "Se nos da una expresión que itera sobre cada elemento de un hash, y se seleccionaran aquellos elementos en donde el valor sea mayor a 100. Toda la expresión dada se puede simplificar por medio del método select y habremos encontrado un equivalente en una sola línea."
   ]
  },
  {
   "cell_type": "markdown",
   "id": "bc7ccd0d-79a4-42ee-be9d-1513fbc63ab9",
   "metadata": {},
   "source": [
    "# Ejercicio 3"
   ]
  },
  {
   "cell_type": "code",
   "execution_count": 16,
   "id": "2ab694f7-a330-4598-8951-c3f3377cff0e",
   "metadata": {},
   "outputs": [
    {
     "name": "stdout",
     "output_type": "stream",
     "text": [
      "1\n",
      "1\n",
      "2\n",
      "3\n",
      "5\n",
      "\n"
     ]
    }
   ],
   "source": [
    "def fib(n)\n",
    "    a, b = 0, 1 \n",
    "    n.times do\n",
    "        yield b\n",
    "        a, b = b, a + b\n",
    "    end\n",
    "    yield nil\n",
    "end\n",
    "fib(5) {|x| puts x}"
   ]
  },
  {
   "cell_type": "markdown",
   "id": "df050cdf-ebb2-4f03-8147-37a5b1b3cd81",
   "metadata": {},
   "source": [
    "Se muestra el método para imprimir los números de Fibonacci hasta n, y que una vez finalizado nos imprima nil."
   ]
  },
  {
   "cell_type": "code",
   "execution_count": 17,
   "id": "e97d2665-a450-4c30-8f94-3a0bbb4a63fb",
   "metadata": {},
   "outputs": [
    {
     "ename": "NoMethodError",
     "evalue": "undefined method `odds' for [10, 30, 50, 70, 90]:Array",
     "output_type": "error",
     "traceback": [
      "\u001b[31mNoMethodError\u001b[0m: undefined method `odds' for [10, 30, 50, 70, 90]:Array",
      "(irb):9:in `<top (required)>'"
     ]
    }
   ],
   "source": [
    "class Array\n",
    "    def odds\n",
    "        each_with_index do |element, index|\n",
    "            yield element if index.odd?\n",
    "        end\n",
    "        nil\n",
    "    end\n",
    "end\n",
    "\n",
    "[10, 30, 50, 70, 90].odds do |n|\n",
    "    puts n\n",
    "end"
   ]
  },
  {
   "cell_type": "markdown",
   "id": "f7c7f292-32d5-466f-af91-d8ecbb1aaaa0",
   "metadata": {},
   "source": [
    "Se implementa el método odds que extiende a la clase Array para que, dado un array, se imprima los elementos de indices impares; finalmente, devuelve nil. "
   ]
  },
  {
   "cell_type": "markdown",
   "id": "885f511f-ea70-418f-84aa-bb23ae58a561",
   "metadata": {},
   "source": [
    "# Ejercicio 4"
   ]
  },
  {
   "cell_type": "code",
   "execution_count": 14,
   "id": "9bb8a087-f921-4ab4-9abe-aa25a5a367af",
   "metadata": {},
   "outputs": [
    {
     "name": "stdout",
     "output_type": "stream",
     "text": [
      "1: [\"Perro\", \"Bat\", \"Dog\", \"gato\", \"\", \"\", \"duck\", \"PANDA\", \"\"]\n",
      "2: [\"Perro\", \"Bat\", \"Dog\", \"gato\", \"duck\", \"PANDA\"]\n",
      "3: [\"Bat\", \"Dog\"]\n",
      "4: [\"Perro\", \"Bat\", \"Dog\", \"gato\", \"duck\"]\n",
      "5: PerroBatDoggatoduckPANDA\n"
     ]
    }
   ],
   "source": [
    "palabras = [\"Perro\", \"Bat\", \"Dog\", \"gato\", nil, \"\", nil, \"\", \"duck\", \"PANDA\", nil, \"\"]\n",
    "str1 = palabras.compact\n",
    "str2 = str1.reject {|cadena| cadena.empty?}\n",
    "str3 = str1.select {|cadena| cadena.length == 3}\n",
    "str4 = str1.select {|cadena| cadena =~ /[aeiou]/}\n",
    "str5 = str1.join(\"\")\n",
    "\n",
    "puts \"1: #{str1}\"\n",
    "puts \"2: #{str2}\"\n",
    "puts \"3: #{str3}\"\n",
    "puts \"4: #{str4}\"\n",
    "puts \"5: #{str5}\""
   ]
  },
  {
   "cell_type": "markdown",
   "id": "253d4f46-e4f5-480c-8581-0a0541d7bf4e",
   "metadata": {},
   "source": [
    "Se muestra lo solicitado:\n",
    "1. Copia de palabras con los elementos nil eliminados.\n",
    "2. Copia de palabras con elementos de cadena vacíos y nil eliminados.\n",
    "3. Solo aquellas palabras que tengan exactamente 3 letras.\n",
    "4. Solo aquellas palabras que contengan al menos una vocal (a, e, i, o, u)\n",
    "5. Una cadena que es la concatenación de palabras."
   ]
  }
 ],
 "metadata": {
  "kernelspec": {
   "display_name": "Ruby 3.2.2",
   "language": "ruby",
   "name": "ruby"
  },
  "language_info": {
   "file_extension": ".rb",
   "mimetype": "application/x-ruby",
   "name": "ruby",
   "version": "3.2.2"
  }
 },
 "nbformat": 4,
 "nbformat_minor": 5
}
